{
 "nbformat": 4,
 "nbformat_minor": 2,
 "metadata": {
  "language_info": {
   "name": "python",
   "codemirror_mode": {
    "name": "ipython",
    "version": 3
   },
   "version": "3.7.6-final"
  },
  "orig_nbformat": 2,
  "file_extension": ".py",
  "mimetype": "text/x-python",
  "name": "python",
  "npconvert_exporter": "python",
  "pygments_lexer": "ipython3",
  "version": 3,
  "kernelspec": {
   "name": "python3",
   "display_name": "Python 3"
  }
 },
 "cells": [
  {
   "cell_type": "code",
   "execution_count": 6,
   "metadata": {},
   "outputs": [],
   "source": [
    "import os\n",
    "import cv2\n",
    "import numpy as np\n",
    "from tqdm import tqdm\n",
    "import torch\n",
    "import torch.nn as nn \n",
    "import torch.nn.functional as F\n",
    "import torch.optim as optim\n",
    "\n",
    "\n",
    "REBUILD_DATA = False  # set to true to one once, then back to false unless you want to change something in your training data.\n",
    "\n",
    "class DogsVSCats():\n",
    "    IMG_SIZE = 50\n",
    "    CATS = \"/home/vikasunix/workspace/pytorch/PetImages/Cat\"\n",
    "    DOGS = \"/home/vikasunix/workspace/pytorch/PetImages/Dog\"\n",
    "    LABELS = {CATS: 0, DOGS: 1}\n",
    "\n",
    "    training_data = []\n",
    "    catcount = 0\n",
    "    dogcount = 0\n",
    "\n",
    "    def make_training_data(self):\n",
    "        for label in self.LABELS:\n",
    "            print(label)\n",
    "            for f in tqdm(os.listdir(label)):\n",
    "                try:\n",
    "                    path = os.path.join(label, f)\n",
    "                    img = cv2.imread(path, cv2.IMREAD_GRAYSCALE)\n",
    "                    img = cv2.resize(img, (self.IMG_SIZE, self.IMG_SIZE))\n",
    "                    self.training_data.append([np.array(img), np.eye(2)[self.LABELS[label]]])\n",
    "\n",
    "                    if label == self.CATS:\n",
    "                        self.catcount+=1\n",
    "                    elif label == self.DOGS:\n",
    "                        self.dogcount += 1\n",
    "                except Exception as e:\n",
    "                    pass\n",
    "        np.random.shuffle(self.training_data)\n",
    "        np.save(\"training.npy\", self.training_data)\n",
    "        print(\"Cats\", self.catcount)\n",
    "        print(\"Dogs\", self.dogcount)\n",
    "\n",
    "\n",
    "if REBUILD_DATA:\n",
    "    dogsvcats = DogsVSCats()\n",
    "    dogsvcats.make_training_data()     "
   ]
  },
  {
   "cell_type": "code",
   "execution_count": 7,
   "metadata": {},
   "outputs": [
    {
     "name": "stdout",
     "output_type": "stream",
     "text": "torch.Size([128, 2, 2])\n"
    }
   ],
   "source": [
    "\n",
    "class Net(nn.Module):\n",
    "    def __init__(self):\n",
    "       super(). __init__()\n",
    "       self.conv1 = nn.Conv2d(1, 32, 5)\n",
    "       self.conv2 = nn.Conv2d(32, 64, 5)\n",
    "       self.conv3 = nn.Conv2d(64, 128, 5)\n",
    "\n",
    "       x = torch.randn(50,50).view(-1,1,50,50)\n",
    "       self._to_linear = None\n",
    "       self.convs(x)\n",
    "\n",
    "       self.fc1 = nn.Linear(self._to_linear, 512)\n",
    "       self.fc2 = nn.Linear(512, 2)\n",
    "\n",
    "    def convs(self, x):\n",
    "        x = F.max_pool2d(F.relu(self.conv1(x)), (2,2))\n",
    "        x = F.max_pool2d(F.relu(self.conv2(x)), (2,2))\n",
    "        x = F.max_pool2d(F.relu(self.conv3(x)), (2,2))\n",
    "\n",
    "        print(x[0].shape)\n",
    "        if self._to_linear is None:\n",
    "            self._to_linear = x[0].shape[0]*x[0].shape[1]*x[0].shape[2]\n",
    "        return x\n",
    "\n",
    "    def forward(self, x):\n",
    "        x = self.convs(x)\n",
    "        x = x.view(-1, self._to_linear)\n",
    "        x = F.relu(self.fc1(x))\n",
    "        x = self.fc2(x)\n",
    "        return x\n",
    "\n",
    "\n",
    "net = Net()"
   ]
  },
  {
   "cell_type": "code",
   "execution_count": 8,
   "metadata": {},
   "outputs": [
    {
     "name": "stdout",
     "output_type": "stream",
     "text": "length of total data 24946\nval size 2494\n"
    }
   ],
   "source": [
    "training_data = np.load(\"training.npy\", allow_pickle=True)\n",
    "print(\"length of total data\", len(training_data))\n",
    "\n",
    "\n",
    "optimizer = optim.Adam(net.parameters(), lr=0.001)\n",
    "loss_function = nn.MSELoss()\n",
    "\n",
    "X = torch.Tensor([i[0] for i in training_data]).view(-1, 50, 50)\n",
    "X = X/255.0 #Normalizing\n",
    "y = torch.Tensor([i[1] for i in training_data])\n",
    "\n",
    "VAL_PCT = 0.1 #validation percent\n",
    "val_size = int(len(X)*VAL_PCT)\n",
    "print(\"val size\", val_size)"
   ]
  },
  {
   "cell_type": "code",
   "execution_count": 10,
   "metadata": {},
   "outputs": [
    {
     "name": "stdout",
     "output_type": "stream",
     "text": "22452\n2494\n"
    }
   ],
   "source": [
    "# train and test split\n",
    "train_X = X[:-val_size]\n",
    "train_y = y[:-val_size]\n",
    "\n",
    "test_X = X[-val_size:]\n",
    "test_y = y[-val_size:]\n",
    "\n",
    "print(len(train_X))\n",
    "print(len(test_X))"
   ]
  },
  {
   "cell_type": "code",
   "execution_count": 13,
   "metadata": {},
   "outputs": [],
   "source": [
    "BATCH_SIZE = 100\n",
    "EPOCHS = 1\n",
    "\n",
    "def train(net):\n",
    "    for epoch in range(EPOCHS):\n",
    "        for i in tqdm(range(0, len(train_X), BATCH_SIZE)): # from 0, to the len of x, stepping BATCH_SIZE at a time. [:50] ..for now just to dev\n",
    "            #print(f\"{i}:{i+BATCH_SIZE}\")\n",
    "            batch_X = train_X[i:i+BATCH_SIZE].view(-1, 1, 50, 50)\n",
    "            batch_y = train_y[i:i+BATCH_SIZE]\n",
    "\n",
    "            net.zero_grad()\n",
    "\n",
    "            outputs = net(batch_X)\n",
    "            loss = loss_function(outputs, batch_y)\n",
    "            loss.backward()\n",
    "            optimizer.step()    # Does the update\n",
    "\n",
    "        print(f\"Epoch: {epoch}. Loss: {loss}\")\n",
    "\n",
    "\n",
    "def test(net):\n",
    "    correct = 0\n",
    "    total = 0\n",
    "    with torch.no_grad():\n",
    "        for i in tqdm(range(len(test_X))):\n",
    "            real_class = torch.argmax(test_y[i])\n",
    "            net_out = net(test_X[i].view(-1, 1, 50, 50))[0]  # returns a list, \n",
    "            predicted_class = torch.argmax(net_out)\n",
    "\n",
    "            if predicted_class == real_class:\n",
    "                correct += 1\n",
    "            total += 1\n",
    "\n",
    "    print(\"Accuracy: \", round(correct/total, 3))"
   ]
  },
  {
   "cell_type": "code",
   "execution_count": 14,
   "metadata": {},
   "outputs": [
    {
     "name": "stderr",
     "output_type": "stream",
     "text": "0%|          | 1/225 [00:00<00:49,  4.53it/s]torch.Size([128, 2, 2])\ntorch.Size([128, 2, 2])\n  1%|▏         | 3/225 [00:00<00:46,  4.77it/s]torch.Size([128, 2, 2])\n  2%|▏         | 4/225 [00:00<00:48,  4.56it/s]torch.Size([128, 2, 2])\n  2%|▏         | 5/225 [00:01<00:48,  4.55it/s]torch.Size([128, 2, 2])\n  3%|▎         | 6/225 [00:01<00:48,  4.54it/s]torch.Size([128, 2, 2])\n  3%|▎         | 7/225 [00:01<00:47,  4.57it/s]torch.Size([128, 2, 2])\n  4%|▎         | 8/225 [00:01<00:47,  4.60it/s]torch.Size([128, 2, 2])\n  4%|▍         | 9/225 [00:01<00:46,  4.62it/s]torch.Size([128, 2, 2])\n  4%|▍         | 10/225 [00:02<00:46,  4.63it/s]torch.Size([128, 2, 2])\n  5%|▍         | 11/225 [00:02<00:45,  4.70it/s]torch.Size([128, 2, 2])\n  5%|▌         | 12/225 [00:02<00:44,  4.76it/s]torch.Size([128, 2, 2])\n  6%|▌         | 13/225 [00:02<00:44,  4.78it/s]torch.Size([128, 2, 2])\n  6%|▌         | 14/225 [00:02<00:44,  4.78it/s]torch.Size([128, 2, 2])\n  7%|▋         | 15/225 [00:03<00:43,  4.81it/s]torch.Size([128, 2, 2])\ntorch.Size([128, 2, 2])\n  8%|▊         | 17/225 [00:03<00:46,  4.45it/s]torch.Size([128, 2, 2])\n  8%|▊         | 18/225 [00:03<00:47,  4.38it/s]torch.Size([128, 2, 2])\n  8%|▊         | 19/225 [00:04<00:46,  4.39it/s]torch.Size([128, 2, 2])\n  9%|▉         | 20/225 [00:04<00:45,  4.51it/s]torch.Size([128, 2, 2])\ntorch.Size([128, 2, 2])\n 10%|▉         | 22/225 [00:04<00:43,  4.62it/s]torch.Size([128, 2, 2])\n 10%|█         | 23/225 [00:04<00:44,  4.49it/s]torch.Size([128, 2, 2])\n 11%|█         | 24/225 [00:05<00:44,  4.48it/s]torch.Size([128, 2, 2])\n 11%|█         | 25/225 [00:05<00:44,  4.46it/s]torch.Size([128, 2, 2])\n 12%|█▏        | 26/225 [00:05<00:44,  4.48it/s]torch.Size([128, 2, 2])\n 12%|█▏        | 27/225 [00:05<00:43,  4.53it/s]torch.Size([128, 2, 2])\n 12%|█▏        | 28/225 [00:06<00:43,  4.58it/s]torch.Size([128, 2, 2])\n 13%|█▎        | 29/225 [00:06<00:41,  4.68it/s]torch.Size([128, 2, 2])\n 13%|█▎        | 30/225 [00:06<00:41,  4.72it/s]torch.Size([128, 2, 2])\n 14%|█▍        | 31/225 [00:06<00:41,  4.66it/s]torch.Size([128, 2, 2])\n 14%|█▍        | 32/225 [00:06<00:42,  4.59it/s]torch.Size([128, 2, 2])\n 15%|█▍        | 33/225 [00:07<00:41,  4.64it/s]torch.Size([128, 2, 2])\n 15%|█▌        | 34/225 [00:07<00:40,  4.75it/s]torch.Size([128, 2, 2])\ntorch.Size([128, 2, 2])\n 16%|█▌        | 36/225 [00:07<00:38,  4.86it/s]torch.Size([128, 2, 2])\n 16%|█▋        | 37/225 [00:07<00:39,  4.82it/s]torch.Size([128, 2, 2])\n 17%|█▋        | 38/225 [00:08<00:38,  4.84it/s]torch.Size([128, 2, 2])\n 17%|█▋        | 39/225 [00:08<00:38,  4.80it/s]torch.Size([128, 2, 2])\n 18%|█▊        | 40/225 [00:08<00:38,  4.82it/s]torch.Size([128, 2, 2])\n 18%|█▊        | 41/225 [00:08<00:38,  4.80it/s]torch.Size([128, 2, 2])\n 19%|█▊        | 42/225 [00:09<00:37,  4.82it/s]torch.Size([128, 2, 2])\n 19%|█▉        | 43/225 [00:09<00:37,  4.86it/s]torch.Size([128, 2, 2])\n 20%|█▉        | 44/225 [00:09<00:37,  4.85it/s]torch.Size([128, 2, 2])\n 20%|██        | 45/225 [00:09<00:36,  4.88it/s]torch.Size([128, 2, 2])\n 20%|██        | 46/225 [00:09<00:39,  4.52it/s]torch.Size([128, 2, 2])\n 21%|██        | 47/225 [00:10<00:42,  4.22it/s]torch.Size([128, 2, 2])\n 21%|██▏       | 48/225 [00:10<00:39,  4.43it/s]torch.Size([128, 2, 2])\ntorch.Size([128, 2, 2])\n 22%|██▏       | 50/225 [00:10<00:39,  4.39it/s]torch.Size([128, 2, 2])\n 23%|██▎       | 51/225 [00:11<00:40,  4.34it/s]torch.Size([128, 2, 2])\n 23%|██▎       | 52/225 [00:11<00:40,  4.31it/s]torch.Size([128, 2, 2])\n 24%|██▎       | 53/225 [00:11<00:37,  4.53it/s]torch.Size([128, 2, 2])\ntorch.Size([128, 2, 2])\n 24%|██▍       | 55/225 [00:11<00:35,  4.75it/s]torch.Size([128, 2, 2])\ntorch.Size([128, 2, 2])\n 25%|██▌       | 57/225 [00:12<00:34,  4.89it/s]torch.Size([128, 2, 2])\n 26%|██▌       | 58/225 [00:12<00:33,  4.98it/s]torch.Size([128, 2, 2])\n 26%|██▌       | 59/225 [00:12<00:35,  4.71it/s]torch.Size([128, 2, 2])\n 27%|██▋       | 60/225 [00:12<00:36,  4.52it/s]torch.Size([128, 2, 2])\n 27%|██▋       | 61/225 [00:13<00:36,  4.55it/s]torch.Size([128, 2, 2])\n 28%|██▊       | 62/225 [00:13<00:37,  4.37it/s]torch.Size([128, 2, 2])\n 28%|██▊       | 63/225 [00:13<00:35,  4.56it/s]torch.Size([128, 2, 2])\ntorch.Size([128, 2, 2])\n 29%|██▉       | 65/225 [00:13<00:32,  4.86it/s]torch.Size([128, 2, 2])\ntorch.Size([128, 2, 2])\n 30%|██▉       | 67/225 [00:14<00:33,  4.73it/s]torch.Size([128, 2, 2])\n 30%|███       | 68/225 [00:14<00:34,  4.61it/s]torch.Size([128, 2, 2])\n 31%|███       | 69/225 [00:14<00:34,  4.46it/s]torch.Size([128, 2, 2])\n 31%|███       | 70/225 [00:15<00:34,  4.43it/s]torch.Size([128, 2, 2])\n 32%|███▏      | 71/225 [00:15<00:33,  4.55it/s]torch.Size([128, 2, 2])\n 32%|███▏      | 72/225 [00:15<00:33,  4.62it/s]torch.Size([128, 2, 2])\n 32%|███▏      | 73/225 [00:15<00:32,  4.72it/s]torch.Size([128, 2, 2])\n 33%|███▎      | 74/225 [00:15<00:31,  4.74it/s]torch.Size([128, 2, 2])\n 33%|███▎      | 75/225 [00:16<00:31,  4.78it/s]torch.Size([128, 2, 2])\n 34%|███▍      | 76/225 [00:16<00:31,  4.78it/s]torch.Size([128, 2, 2])\n 34%|███▍      | 77/225 [00:16<00:30,  4.78it/s]torch.Size([128, 2, 2])\ntorch.Size([128, 2, 2])\n 35%|███▌      | 79/225 [00:16<00:30,  4.85it/s]torch.Size([128, 2, 2])\n 36%|███▌      | 80/225 [00:17<00:30,  4.82it/s]torch.Size([128, 2, 2])\n 36%|███▌      | 81/225 [00:17<00:29,  4.85it/s]torch.Size([128, 2, 2])\n 36%|███▋      | 82/225 [00:17<00:29,  4.83it/s]torch.Size([128, 2, 2])\n 37%|███▋      | 83/225 [00:17<00:29,  4.76it/s]torch.Size([128, 2, 2])\ntorch.Size([128, 2, 2])\n 38%|███▊      | 85/225 [00:18<00:29,  4.82it/s]torch.Size([128, 2, 2])\ntorch.Size([128, 2, 2])\n 39%|███▊      | 87/225 [00:18<00:31,  4.44it/s]torch.Size([128, 2, 2])\n 39%|███▉      | 88/225 [00:18<00:30,  4.46it/s]torch.Size([128, 2, 2])\n 40%|███▉      | 89/225 [00:19<00:29,  4.57it/s]torch.Size([128, 2, 2])\n 40%|████      | 90/225 [00:19<00:30,  4.44it/s]torch.Size([128, 2, 2])\n 40%|████      | 91/225 [00:19<00:29,  4.54it/s]torch.Size([128, 2, 2])\ntorch.Size([128, 2, 2])\n 41%|████▏     | 93/225 [00:20<00:29,  4.45it/s]torch.Size([128, 2, 2])\n 42%|████▏     | 94/225 [00:20<00:29,  4.39it/s]torch.Size([128, 2, 2])\n 42%|████▏     | 95/225 [00:20<00:29,  4.37it/s]torch.Size([128, 2, 2])\n 43%|████▎     | 96/225 [00:20<00:29,  4.37it/s]torch.Size([128, 2, 2])\n 43%|████▎     | 97/225 [00:20<00:28,  4.43it/s]torch.Size([128, 2, 2])\n 44%|████▎     | 98/225 [00:21<00:28,  4.48it/s]torch.Size([128, 2, 2])\n 44%|████▍     | 99/225 [00:21<00:28,  4.49it/s]torch.Size([128, 2, 2])\n 44%|████▍     | 100/225 [00:21<00:27,  4.52it/s]torch.Size([128, 2, 2])\n 45%|████▍     | 101/225 [00:21<00:27,  4.55it/s]torch.Size([128, 2, 2])\n 45%|████▌     | 102/225 [00:22<00:26,  4.58it/s]torch.Size([128, 2, 2])\n 46%|████▌     | 103/225 [00:22<00:27,  4.50it/s]torch.Size([128, 2, 2])\n 46%|████▌     | 104/225 [00:22<00:26,  4.55it/s]torch.Size([128, 2, 2])\n 47%|████▋     | 105/225 [00:22<00:26,  4.47it/s]torch.Size([128, 2, 2])\n 47%|████▋     | 106/225 [00:22<00:26,  4.43it/s]torch.Size([128, 2, 2])\n 48%|████▊     | 107/225 [00:23<00:26,  4.43it/s]torch.Size([128, 2, 2])\n 48%|████▊     | 108/225 [00:23<00:26,  4.44it/s]torch.Size([128, 2, 2])\n 48%|████▊     | 109/225 [00:23<00:26,  4.39it/s]torch.Size([128, 2, 2])\n 49%|████▉     | 110/225 [00:23<00:25,  4.44it/s]torch.Size([128, 2, 2])\n 49%|████▉     | 111/225 [00:24<00:25,  4.51it/s]torch.Size([128, 2, 2])\n 50%|████▉     | 112/225 [00:24<00:24,  4.54it/s]torch.Size([128, 2, 2])\n 50%|█████     | 113/225 [00:24<00:25,  4.48it/s]torch.Size([128, 2, 2])\n 51%|█████     | 114/225 [00:24<00:24,  4.49it/s]torch.Size([128, 2, 2])\n 51%|█████     | 115/225 [00:24<00:24,  4.46it/s]torch.Size([128, 2, 2])\n 52%|█████▏    | 116/225 [00:25<00:24,  4.44it/s]torch.Size([128, 2, 2])\n 52%|█████▏    | 117/225 [00:25<00:24,  4.46it/s]torch.Size([128, 2, 2])\n 52%|█████▏    | 118/225 [00:25<00:23,  4.47it/s]torch.Size([128, 2, 2])\n 53%|█████▎    | 119/225 [00:25<00:24,  4.25it/s]torch.Size([128, 2, 2])\n 53%|█████▎    | 120/225 [00:26<00:24,  4.35it/s]torch.Size([128, 2, 2])\n 54%|█████▍    | 121/225 [00:26<00:23,  4.42it/s]torch.Size([128, 2, 2])\n 54%|█████▍    | 122/225 [00:26<00:24,  4.26it/s]torch.Size([128, 2, 2])\n 55%|█████▍    | 123/225 [00:26<00:23,  4.36it/s]torch.Size([128, 2, 2])\n 55%|█████▌    | 124/225 [00:27<00:23,  4.38it/s]torch.Size([128, 2, 2])\n 56%|█████▌    | 125/225 [00:27<00:22,  4.39it/s]torch.Size([128, 2, 2])\n 56%|█████▌    | 126/225 [00:27<00:22,  4.42it/s]torch.Size([128, 2, 2])\n 56%|█████▋    | 127/225 [00:27<00:21,  4.47it/s]torch.Size([128, 2, 2])\n 57%|█████▋    | 128/225 [00:27<00:21,  4.42it/s]torch.Size([128, 2, 2])\n 57%|█████▋    | 129/225 [00:28<00:21,  4.44it/s]torch.Size([128, 2, 2])\n 58%|█████▊    | 130/225 [00:28<00:21,  4.44it/s]torch.Size([128, 2, 2])\n 58%|█████▊    | 131/225 [00:28<00:21,  4.43it/s]torch.Size([128, 2, 2])\n 59%|█████▊    | 132/225 [00:28<00:21,  4.41it/s]torch.Size([128, 2, 2])\n 59%|█████▉    | 133/225 [00:29<00:20,  4.40it/s]torch.Size([128, 2, 2])\n 60%|█████▉    | 134/225 [00:29<00:20,  4.43it/s]torch.Size([128, 2, 2])\n 60%|██████    | 135/225 [00:29<00:20,  4.43it/s]torch.Size([128, 2, 2])\n 60%|██████    | 136/225 [00:29<00:19,  4.47it/s]torch.Size([128, 2, 2])\n 61%|██████    | 137/225 [00:29<00:19,  4.49it/s]torch.Size([128, 2, 2])\n 61%|██████▏   | 138/225 [00:30<00:19,  4.47it/s]torch.Size([128, 2, 2])\n 62%|██████▏   | 139/225 [00:30<00:19,  4.50it/s]torch.Size([128, 2, 2])\n 62%|██████▏   | 140/225 [00:30<00:18,  4.49it/s]torch.Size([128, 2, 2])\n 63%|██████▎   | 141/225 [00:30<00:18,  4.47it/s]torch.Size([128, 2, 2])\n 63%|██████▎   | 142/225 [00:31<00:18,  4.50it/s]torch.Size([128, 2, 2])\n 64%|██████▎   | 143/225 [00:31<00:18,  4.46it/s]torch.Size([128, 2, 2])\n 64%|██████▍   | 144/225 [00:31<00:18,  4.46it/s]torch.Size([128, 2, 2])\n 64%|██████▍   | 145/225 [00:31<00:17,  4.49it/s]torch.Size([128, 2, 2])\n 65%|██████▍   | 146/225 [00:31<00:17,  4.48it/s]torch.Size([128, 2, 2])\n 65%|██████▌   | 147/225 [00:32<00:17,  4.43it/s]torch.Size([128, 2, 2])\n 66%|██████▌   | 148/225 [00:32<00:17,  4.48it/s]torch.Size([128, 2, 2])\n 66%|██████▌   | 149/225 [00:32<00:16,  4.52it/s]torch.Size([128, 2, 2])\n 67%|██████▋   | 150/225 [00:32<00:16,  4.53it/s]torch.Size([128, 2, 2])\n 67%|██████▋   | 151/225 [00:33<00:16,  4.52it/s]torch.Size([128, 2, 2])\n 68%|██████▊   | 152/225 [00:33<00:16,  4.40it/s]torch.Size([128, 2, 2])\n 68%|██████▊   | 153/225 [00:33<00:16,  4.44it/s]torch.Size([128, 2, 2])\n 68%|██████▊   | 154/225 [00:33<00:15,  4.48it/s]torch.Size([128, 2, 2])\n 69%|██████▉   | 155/225 [00:33<00:15,  4.47it/s]torch.Size([128, 2, 2])\n 69%|██████▉   | 156/225 [00:34<00:15,  4.54it/s]torch.Size([128, 2, 2])\n 70%|██████▉   | 157/225 [00:34<00:15,  4.46it/s]torch.Size([128, 2, 2])\n 70%|███████   | 158/225 [00:34<00:14,  4.51it/s]torch.Size([128, 2, 2])\n 71%|███████   | 159/225 [00:34<00:14,  4.48it/s]torch.Size([128, 2, 2])\n 71%|███████   | 160/225 [00:35<00:14,  4.43it/s]torch.Size([128, 2, 2])\n 72%|███████▏  | 161/225 [00:35<00:14,  4.44it/s]torch.Size([128, 2, 2])\n 72%|███████▏  | 162/225 [00:35<00:14,  4.42it/s]torch.Size([128, 2, 2])\n 72%|███████▏  | 163/225 [00:35<00:14,  4.38it/s]torch.Size([128, 2, 2])\n 73%|███████▎  | 164/225 [00:36<00:14,  4.35it/s]torch.Size([128, 2, 2])\n 73%|███████▎  | 165/225 [00:36<00:14,  4.28it/s]torch.Size([128, 2, 2])\n 74%|███████▍  | 166/225 [00:36<00:14,  4.17it/s]torch.Size([128, 2, 2])\n 74%|███████▍  | 167/225 [00:36<00:13,  4.19it/s]torch.Size([128, 2, 2])\n 75%|███████▍  | 168/225 [00:36<00:13,  4.26it/s]torch.Size([128, 2, 2])\n 75%|███████▌  | 169/225 [00:37<00:13,  4.26it/s]torch.Size([128, 2, 2])\n 76%|███████▌  | 170/225 [00:37<00:12,  4.37it/s]torch.Size([128, 2, 2])\n 76%|███████▌  | 171/225 [00:37<00:12,  4.43it/s]torch.Size([128, 2, 2])\n 76%|███████▋  | 172/225 [00:37<00:12,  4.36it/s]torch.Size([128, 2, 2])\n 77%|███████▋  | 173/225 [00:38<00:11,  4.35it/s]torch.Size([128, 2, 2])\n 77%|███████▋  | 174/225 [00:38<00:11,  4.43it/s]torch.Size([128, 2, 2])\n 78%|███████▊  | 175/225 [00:38<00:11,  4.42it/s]torch.Size([128, 2, 2])\n 78%|███████▊  | 176/225 [00:38<00:11,  4.45it/s]torch.Size([128, 2, 2])\n 79%|███████▊  | 177/225 [00:39<00:10,  4.42it/s]torch.Size([128, 2, 2])\n 79%|███████▉  | 178/225 [00:39<00:10,  4.47it/s]torch.Size([128, 2, 2])\n 80%|███████▉  | 179/225 [00:39<00:10,  4.43it/s]torch.Size([128, 2, 2])\n 80%|████████  | 180/225 [00:39<00:10,  4.44it/s]torch.Size([128, 2, 2])\n 80%|████████  | 181/225 [00:39<00:09,  4.47it/s]torch.Size([128, 2, 2])\n 81%|████████  | 182/225 [00:40<00:09,  4.46it/s]torch.Size([128, 2, 2])\n 81%|████████▏ | 183/225 [00:40<00:09,  4.41it/s]torch.Size([128, 2, 2])\n 82%|████████▏ | 184/225 [00:40<00:09,  4.48it/s]torch.Size([128, 2, 2])\n 82%|████████▏ | 185/225 [00:40<00:08,  4.47it/s]torch.Size([128, 2, 2])\n 83%|████████▎ | 186/225 [00:41<00:08,  4.41it/s]torch.Size([128, 2, 2])\n 83%|████████▎ | 187/225 [00:41<00:08,  4.42it/s]torch.Size([128, 2, 2])\n 84%|████████▎ | 188/225 [00:41<00:08,  4.47it/s]torch.Size([128, 2, 2])\n 84%|████████▍ | 189/225 [00:41<00:08,  4.43it/s]torch.Size([128, 2, 2])\n 84%|████████▍ | 190/225 [00:41<00:07,  4.44it/s]torch.Size([128, 2, 2])\n 85%|████████▍ | 191/225 [00:42<00:07,  4.43it/s]torch.Size([128, 2, 2])\n 85%|████████▌ | 192/225 [00:42<00:07,  4.45it/s]torch.Size([128, 2, 2])\n 86%|████████▌ | 193/225 [00:42<00:07,  4.44it/s]torch.Size([128, 2, 2])\n 86%|████████▌ | 194/225 [00:42<00:07,  4.40it/s]torch.Size([128, 2, 2])\n 87%|████████▋ | 195/225 [00:43<00:06,  4.46it/s]torch.Size([128, 2, 2])\n 87%|████████▋ | 196/225 [00:43<00:06,  4.40it/s]torch.Size([128, 2, 2])\n 88%|████████▊ | 197/225 [00:43<00:06,  4.47it/s]torch.Size([128, 2, 2])\n 88%|████████▊ | 198/225 [00:43<00:06,  4.41it/s]torch.Size([128, 2, 2])\n 88%|████████▊ | 199/225 [00:43<00:05,  4.38it/s]torch.Size([128, 2, 2])\n 89%|████████▉ | 200/225 [00:44<00:05,  4.44it/s]torch.Size([128, 2, 2])\n 89%|████████▉ | 201/225 [00:44<00:05,  4.45it/s]torch.Size([128, 2, 2])\n 90%|████████▉ | 202/225 [00:44<00:05,  4.43it/s]torch.Size([128, 2, 2])\n 90%|█████████ | 203/225 [00:44<00:04,  4.41it/s]torch.Size([128, 2, 2])\n 91%|█████████ | 204/225 [00:45<00:04,  4.40it/s]torch.Size([128, 2, 2])\n 91%|█████████ | 205/225 [00:45<00:04,  4.42it/s]torch.Size([128, 2, 2])\n 92%|█████████▏| 206/225 [00:45<00:04,  4.37it/s]torch.Size([128, 2, 2])\n 92%|█████████▏| 207/225 [00:45<00:04,  4.41it/s]torch.Size([128, 2, 2])\n 92%|█████████▏| 208/225 [00:46<00:03,  4.40it/s]torch.Size([128, 2, 2])\n 93%|█████████▎| 209/225 [00:46<00:03,  4.34it/s]torch.Size([128, 2, 2])\n 93%|█████████▎| 210/225 [00:46<00:03,  4.27it/s]torch.Size([128, 2, 2])\n 94%|█████████▍| 211/225 [00:46<00:03,  4.34it/s]torch.Size([128, 2, 2])\n 94%|█████████▍| 212/225 [00:46<00:03,  4.33it/s]torch.Size([128, 2, 2])\n 95%|█████████▍| 213/225 [00:47<00:02,  4.37it/s]torch.Size([128, 2, 2])\n 95%|█████████▌| 214/225 [00:47<00:02,  4.41it/s]torch.Size([128, 2, 2])\n 96%|█████████▌| 215/225 [00:47<00:02,  4.40it/s]torch.Size([128, 2, 2])\n 96%|█████████▌| 216/225 [00:47<00:02,  4.43it/s]torch.Size([128, 2, 2])\n 96%|█████████▋| 217/225 [00:48<00:01,  4.45it/s]torch.Size([128, 2, 2])\n 97%|█████████▋| 218/225 [00:48<00:01,  4.45it/s]torch.Size([128, 2, 2])\n 97%|█████████▋| 219/225 [00:48<00:01,  4.39it/s]torch.Size([128, 2, 2])\n 98%|█████████▊| 220/225 [00:48<00:01,  4.39it/s]torch.Size([128, 2, 2])\n 98%|█████████▊| 221/225 [00:48<00:00,  4.43it/s]torch.Size([128, 2, 2])\n 99%|█████████▊| 222/225 [00:49<00:00,  4.40it/s]torch.Size([128, 2, 2])\n 99%|█████████▉| 223/225 [00:49<00:00,  4.37it/s]torch.Size([128, 2, 2])\n100%|█████████▉| 224/225 [00:49<00:00,  4.40it/s]torch.Size([128, 2, 2])\ntorch.Size([128, 2, 2])\n100%|██████████| 225/225 [00:49<00:00,  4.52it/s]Epoch: 0. Loss: 0.20219053328037262\n\n"
    }
   ],
   "source": [
    "train(net)"
   ]
  },
  {
   "cell_type": "code",
   "execution_count": 15,
   "metadata": {},
   "outputs": [
    {
     "name": "stderr",
     "output_type": "stream",
     "text": "rch.Size([128, 2, 2])\ntorch.Size([128, 2, 2])\ntorch.Size([128, 2, 2])\ntorch.Size([128, 2, 2])\ntorch.Size([128, 2, 2])\ntorch.Size([128, 2, 2])\ntorch.Size([128, 2, 2])\ntorch.Size([128, 2, 2])\ntorch.Size([128, 2, 2])\ntorch.Size([128, 2, 2])\ntorch.Size([128, 2, 2])\ntorch.Size([128, 2, 2])\ntorch.Size([128, 2, 2])\ntorch.Size([128, 2, 2])\ntorch.Size([128, 2, 2])\ntorch.Size([128, 2, 2])\ntorch.Size([128, 2, 2])\ntorch.Size([128, 2, 2])\ntorch.Size([128, 2, 2])\ntorch.Size([128, 2, 2])\ntorch.Size([128, 2, 2])\ntorch.Size([128, 2, 2])\ntorch.Size([128, 2, 2])\ntorch.Size([128, 2, 2])\ntorch.Size([128, 2, 2])\ntorch.Size([128, 2, 2])\ntorch.Size([128, 2, 2])\ntorch.Size([128, 2, 2])\ntorch.Size([128, 2, 2])\ntorch.Size([128, 2, 2])\ntorch.Size([128, 2, 2])\ntorch.Size([128, 2, 2])\ntorch.Size([128, 2, 2])\ntorch.Size([128, 2, 2])\ntorch.Size([128, 2, 2])\ntorch.Size([128, 2, 2])\ntorch.Size([128, 2, 2])\n 71%|███████▏  | 1778/2494 [00:06<00:01, 424.82it/s]torch.Size([128, 2, 2])\ntorch.Size([128, 2, 2])\ntorch.Size([128, 2, 2])\ntorch.Size([128, 2, 2])\ntorch.Size([128, 2, 2])\ntorch.Size([128, 2, 2])\ntorch.Size([128, 2, 2])\ntorch.Size([128, 2, 2])\ntorch.Size([128, 2, 2])\ntorch.Size([128, 2, 2])\ntorch.Size([128, 2, 2])\ntorch.Size([128, 2, 2])\ntorch.Size([128, 2, 2])\ntorch.Size([128, 2, 2])\ntorch.Size([128, 2, 2])\ntorch.Size([128, 2, 2])\ntorch.Size([128, 2, 2])\ntorch.Size([128, 2, 2])\ntorch.Size([128, 2, 2])\ntorch.Size([128, 2, 2])\ntorch.Size([128, 2, 2])\ntorch.Size([128, 2, 2])\ntorch.Size([128, 2, 2])\ntorch.Size([128, 2, 2])\ntorch.Size([128, 2, 2])\ntorch.Size([128, 2, 2])\ntorch.Size([128, 2, 2])\ntorch.Size([128, 2, 2])\ntorch.Size([128, 2, 2])\ntorch.Size([128, 2, 2])\ntorch.Size([128, 2, 2])\ntorch.Size([128, 2, 2])\ntorch.Size([128, 2, 2])\ntorch.Size([128, 2, 2])\ntorch.Size([128, 2, 2])\ntorch.Size([128, 2, 2])\ntorch.Size([128, 2, 2])\ntorch.Size([128, 2, 2])\ntorch.Size([128, 2, 2])\ntorch.Size([128, 2, 2])\ntorch.Size([128, 2, 2])\ntorch.Size([128, 2, 2])\ntorch.Size([128, 2, 2])\ntorch.Size([128, 2, 2])\ntorch.Size([128, 2, 2])\ntorch.Size([128, 2, 2])\ntorch.Size([128, 2, 2])\ntorch.Size([128, 2, 2])\ntorch.Size([128, 2, 2])\ntorch.Size([128, 2, 2])\ntorch.Size([128, 2, 2])\ntorch.Size([128, 2, 2])\ntorch.Size([128, 2, 2])\ntorch.Size([128, 2, 2])\ntorch.Size([128, 2, 2])\ntorch.Size([128, 2, 2])\ntorch.Size([128, 2, 2])\ntorch.Size([128, 2, 2])\ntorch.Size([128, 2, 2])\ntorch.Size([128, 2, 2])\ntorch.Size([128, 2, 2])\ntorch.Size([128, 2, 2])\ntorch.Size([128, 2, 2])\ntorch.Size([128, 2, 2])\ntorch.Size([128, 2, 2])\ntorch.Size([128, 2, 2])\ntorch.Size([128, 2, 2])\ntorch.Size([128, 2, 2])\ntorch.Size([128, 2, 2])\ntorch.Size([128, 2, 2])\ntorch.Size([128, 2, 2])\ntorch.Size([128, 2, 2])\ntorch.Size([128, 2, 2])\ntorch.Size([128, 2, 2])\ntorch.Size([128, 2, 2])\ntorch.Size([128, 2, 2])\ntorch.Size([128, 2, 2])\ntorch.Size([128, 2, 2])\ntorch.Size([128, 2, 2])\ntorch.Size([128, 2, 2])\n 75%|███████▍  | 1867/2494 [00:06<00:01, 418.06it/s]torch.Size([128, 2, 2])\ntorch.Size([128, 2, 2])\ntorch.Size([128, 2, 2])\ntorch.Size([128, 2, 2])\ntorch.Size([128, 2, 2])\ntorch.Size([128, 2, 2])\ntorch.Size([128, 2, 2])\ntorch.Size([128, 2, 2])\ntorch.Size([128, 2, 2])\ntorch.Size([128, 2, 2])\ntorch.Size([128, 2, 2])\ntorch.Size([128, 2, 2])\ntorch.Size([128, 2, 2])\ntorch.Size([128, 2, 2])\ntorch.Size([128, 2, 2])\ntorch.Size([128, 2, 2])\ntorch.Size([128, 2, 2])\ntorch.Size([128, 2, 2])\ntorch.Size([128, 2, 2])\ntorch.Size([128, 2, 2])\ntorch.Size([128, 2, 2])\ntorch.Size([128, 2, 2])\ntorch.Size([128, 2, 2])\ntorch.Size([128, 2, 2])\ntorch.Size([128, 2, 2])\ntorch.Size([128, 2, 2])\ntorch.Size([128, 2, 2])\ntorch.Size([128, 2, 2])\ntorch.Size([128, 2, 2])\ntorch.Size([128, 2, 2])\ntorch.Size([128, 2, 2])\ntorch.Size([128, 2, 2])\ntorch.Size([128, 2, 2])\ntorch.Size([128, 2, 2])\ntorch.Size([128, 2, 2])\ntorch.Size([128, 2, 2])\ntorch.Size([128, 2, 2])\ntorch.Size([128, 2, 2])\ntorch.Size([128, 2, 2])\ntorch.Size([128, 2, 2])\ntorch.Size([128, 2, 2])\ntorch.Size([128, 2, 2])\ntorch.Size([128, 2, 2])\ntorch.Size([128, 2, 2])\ntorch.Size([128, 2, 2])\ntorch.Size([128, 2, 2])\ntorch.Size([128, 2, 2])\ntorch.Size([128, 2, 2])\ntorch.Size([128, 2, 2])\ntorch.Size([128, 2, 2])\ntorch.Size([128, 2, 2])\ntorch.Size([128, 2, 2])\ntorch.Size([128, 2, 2])\ntorch.Size([128, 2, 2])\ntorch.Size([128, 2, 2])\ntorch.Size([128, 2, 2])\ntorch.Size([128, 2, 2])\ntorch.Size([128, 2, 2])\ntorch.Size([128, 2, 2])\ntorch.Size([128, 2, 2])\ntorch.Size([128, 2, 2])\ntorch.Size([128, 2, 2])\ntorch.Size([128, 2, 2])\ntorch.Size([128, 2, 2])\ntorch.Size([128, 2, 2])\ntorch.Size([128, 2, 2])\ntorch.Size([128, 2, 2])\ntorch.Size([128, 2, 2])\ntorch.Size([128, 2, 2])\ntorch.Size([128, 2, 2])\ntorch.Size([128, 2, 2])\ntorch.Size([128, 2, 2])\ntorch.Size([128, 2, 2])\ntorch.Size([128, 2, 2])\ntorch.Size([128, 2, 2])\ntorch.Size([128, 2, 2])\ntorch.Size([128, 2, 2])\ntorch.Size([128, 2, 2])\ntorch.Size([128, 2, 2])\ntorch.Size([128, 2, 2])\ntorch.Size([128, 2, 2])\ntorch.Size([128, 2, 2])\ntorch.Size([128, 2, 2])\ntorch.Size([128, 2, 2])\ntorch.Size([128, 2, 2])\ntorch.Size([128, 2, 2])\ntorch.Size([128, 2, 2])\n 79%|███████▊  | 1958/2494 [00:06<00:01, 424.98it/s]torch.Size([128, 2, 2])\ntorch.Size([128, 2, 2])\ntorch.Size([128, 2, 2])\ntorch.Size([128, 2, 2])\ntorch.Size([128, 2, 2])\ntorch.Size([128, 2, 2])\ntorch.Size([128, 2, 2])\ntorch.Size([128, 2, 2])\ntorch.Size([128, 2, 2])\ntorch.Size([128, 2, 2])\ntorch.Size([128, 2, 2])\ntorch.Size([128, 2, 2])\ntorch.Size([128, 2, 2])\ntorch.Size([128, 2, 2])\ntorch.Size([128, 2, 2])\ntorch.Size([128, 2, 2])\ntorch.Size([128, 2, 2])\ntorch.Size([128, 2, 2])\ntorch.Size([128, 2, 2])\ntorch.Size([128, 2, 2])\ntorch.Size([128, 2, 2])\ntorch.Size([128, 2, 2])\ntorch.Size([128, 2, 2])\ntorch.Size([128, 2, 2])\ntorch.Size([128, 2, 2])\ntorch.Size([128, 2, 2])\ntorch.Size([128, 2, 2])\ntorch.Size([128, 2, 2])\ntorch.Size([128, 2, 2])\ntorch.Size([128, 2, 2])\ntorch.Size([128, 2, 2])\ntorch.Size([128, 2, 2])\ntorch.Size([128, 2, 2])\ntorch.Size([128, 2, 2])\ntorch.Size([128, 2, 2])\ntorch.Size([128, 2, 2])\ntorch.Size([128, 2, 2])\ntorch.Size([128, 2, 2])\ntorch.Size([128, 2, 2])\ntorch.Size([128, 2, 2])\ntorch.Size([128, 2, 2])\ntorch.Size([128, 2, 2])\ntorch.Size([128, 2, 2])\ntorch.Size([128, 2, 2])\ntorch.Size([128, 2, 2])\ntorch.Size([128, 2, 2])\ntorch.Size([128, 2, 2])\ntorch.Size([128, 2, 2])\ntorch.Size([128, 2, 2])\ntorch.Size([128, 2, 2])\ntorch.Size([128, 2, 2])\ntorch.Size([128, 2, 2])\ntorch.Size([128, 2, 2])\ntorch.Size([128, 2, 2])\ntorch.Size([128, 2, 2])\ntorch.Size([128, 2, 2])\ntorch.Size([128, 2, 2])\ntorch.Size([128, 2, 2])\ntorch.Size([128, 2, 2])\ntorch.Size([128, 2, 2])\ntorch.Size([128, 2, 2])\ntorch.Size([128, 2, 2])\ntorch.Size([128, 2, 2])\ntorch.Size([128, 2, 2])\ntorch.Size([128, 2, 2])\ntorch.Size([128, 2, 2])\ntorch.Size([128, 2, 2])\ntorch.Size([128, 2, 2])\ntorch.Size([128, 2, 2])\ntorch.Size([128, 2, 2])\ntorch.Size([128, 2, 2])\ntorch.Size([128, 2, 2])\ntorch.Size([128, 2, 2])\ntorch.Size([128, 2, 2])\ntorch.Size([128, 2, 2])\ntorch.Size([128, 2, 2])\ntorch.Size([128, 2, 2])\ntorch.Size([128, 2, 2])\ntorch.Size([128, 2, 2])\ntorch.Size([128, 2, 2])\ntorch.Size([128, 2, 2])\ntorch.Size([128, 2, 2])\ntorch.Size([128, 2, 2])\ntorch.Size([128, 2, 2])\ntorch.Size([128, 2, 2])\ntorch.Size([128, 2, 2])\ntorch.Size([128, 2, 2])\n 82%|████████▏ | 2047/2494 [00:06<00:01, 431.80it/s]torch.Size([128, 2, 2])\ntorch.Size([128, 2, 2])\ntorch.Size([128, 2, 2])\ntorch.Size([128, 2, 2])\ntorch.Size([128, 2, 2])\ntorch.Size([128, 2, 2])\ntorch.Size([128, 2, 2])\ntorch.Size([128, 2, 2])\ntorch.Size([128, 2, 2])\ntorch.Size([128, 2, 2])\ntorch.Size([128, 2, 2])\ntorch.Size([128, 2, 2])\ntorch.Size([128, 2, 2])\ntorch.Size([128, 2, 2])\ntorch.Size([128, 2, 2])\ntorch.Size([128, 2, 2])\ntorch.Size([128, 2, 2])\ntorch.Size([128, 2, 2])\ntorch.Size([128, 2, 2])\ntorch.Size([128, 2, 2])\ntorch.Size([128, 2, 2])\ntorch.Size([128, 2, 2])\ntorch.Size([128, 2, 2])\ntorch.Size([128, 2, 2])\ntorch.Size([128, 2, 2])\ntorch.Size([128, 2, 2])\ntorch.Size([128, 2, 2])\ntorch.Size([128, 2, 2])\ntorch.Size([128, 2, 2])\ntorch.Size([128, 2, 2])\ntorch.Size([128, 2, 2])\ntorch.Size([128, 2, 2])\ntorch.Size([128, 2, 2])\ntorch.Size([128, 2, 2])\ntorch.Size([128, 2, 2])\ntorch.Size([128, 2, 2])\ntorch.Size([128, 2, 2])\ntorch.Size([128, 2, 2])\ntorch.Size([128, 2, 2])\ntorch.Size([128, 2, 2])\ntorch.Size([128, 2, 2])\ntorch.Size([128, 2, 2])\ntorch.Size([128, 2, 2])\ntorch.Size([128, 2, 2])\ntorch.Size([128, 2, 2])\ntorch.Size([128, 2, 2])\ntorch.Size([128, 2, 2])\ntorch.Size([128, 2, 2])\ntorch.Size([128, 2, 2])\ntorch.Size([128, 2, 2])\ntorch.Size([128, 2, 2])\ntorch.Size([128, 2, 2])\ntorch.Size([128, 2, 2])\ntorch.Size([128, 2, 2])\ntorch.Size([128, 2, 2])\ntorch.Size([128, 2, 2])\ntorch.Size([128, 2, 2])\ntorch.Size([128, 2, 2])\ntorch.Size([128, 2, 2])\ntorch.Size([128, 2, 2])\ntorch.Size([128, 2, 2])\ntorch.Size([128, 2, 2])\ntorch.Size([128, 2, 2])\ntorch.Size([128, 2, 2])\ntorch.Size([128, 2, 2])\ntorch.Size([128, 2, 2])\ntorch.Size([128, 2, 2])\ntorch.Size([128, 2, 2])\ntorch.Size([128, 2, 2])\ntorch.Size([128, 2, 2])\ntorch.Size([128, 2, 2])\ntorch.Size([128, 2, 2])\ntorch.Size([128, 2, 2])\ntorch.Size([128, 2, 2])\ntorch.Size([128, 2, 2])\ntorch.Size([128, 2, 2])\ntorch.Size([128, 2, 2])\ntorch.Size([128, 2, 2])\ntorch.Size([128, 2, 2])\ntorch.Size([128, 2, 2])\ntorch.Size([128, 2, 2])\ntorch.Size([128, 2, 2])\ntorch.Size([128, 2, 2])\ntorch.Size([128, 2, 2])\ntorch.Size([128, 2, 2])\ntorch.Size([128, 2, 2])\ntorch.Size([128, 2, 2])\n 86%|████████▌ | 2135/2494 [00:06<00:00, 423.63it/s]torch.Size([128, 2, 2])\ntorch.Size([128, 2, 2])\ntorch.Size([128, 2, 2])\ntorch.Size([128, 2, 2])\ntorch.Size([128, 2, 2])\ntorch.Size([128, 2, 2])\ntorch.Size([128, 2, 2])\ntorch.Size([128, 2, 2])\ntorch.Size([128, 2, 2])\ntorch.Size([128, 2, 2])\ntorch.Size([128, 2, 2])\ntorch.Size([128, 2, 2])\ntorch.Size([128, 2, 2])\ntorch.Size([128, 2, 2])\ntorch.Size([128, 2, 2])\ntorch.Size([128, 2, 2])\ntorch.Size([128, 2, 2])\ntorch.Size([128, 2, 2])\ntorch.Size([128, 2, 2])\ntorch.Size([128, 2, 2])\ntorch.Size([128, 2, 2])\ntorch.Size([128, 2, 2])\ntorch.Size([128, 2, 2])\ntorch.Size([128, 2, 2])\ntorch.Size([128, 2, 2])\ntorch.Size([128, 2, 2])\ntorch.Size([128, 2, 2])\ntorch.Size([128, 2, 2])\ntorch.Size([128, 2, 2])\ntorch.Size([128, 2, 2])\ntorch.Size([128, 2, 2])\ntorch.Size([128, 2, 2])\ntorch.Size([128, 2, 2])\ntorch.Size([128, 2, 2])\ntorch.Size([128, 2, 2])\ntorch.Size([128, 2, 2])\ntorch.Size([128, 2, 2])\ntorch.Size([128, 2, 2])\ntorch.Size([128, 2, 2])\ntorch.Size([128, 2, 2])\ntorch.Size([128, 2, 2])\ntorch.Size([128, 2, 2])\ntorch.Size([128, 2, 2])\ntorch.Size([128, 2, 2])\ntorch.Size([128, 2, 2])\ntorch.Size([128, 2, 2])\ntorch.Size([128, 2, 2])\ntorch.Size([128, 2, 2])\ntorch.Size([128, 2, 2])\ntorch.Size([128, 2, 2])\ntorch.Size([128, 2, 2])\ntorch.Size([128, 2, 2])\ntorch.Size([128, 2, 2])\ntorch.Size([128, 2, 2])\ntorch.Size([128, 2, 2])\ntorch.Size([128, 2, 2])\ntorch.Size([128, 2, 2])\ntorch.Size([128, 2, 2])\ntorch.Size([128, 2, 2])\ntorch.Size([128, 2, 2])\ntorch.Size([128, 2, 2])\ntorch.Size([128, 2, 2])\ntorch.Size([128, 2, 2])\ntorch.Size([128, 2, 2])\ntorch.Size([128, 2, 2])\ntorch.Size([128, 2, 2])\ntorch.Size([128, 2, 2])\ntorch.Size([128, 2, 2])\ntorch.Size([128, 2, 2])\ntorch.Size([128, 2, 2])\ntorch.Size([128, 2, 2])\ntorch.Size([128, 2, 2])\ntorch.Size([128, 2, 2])\ntorch.Size([128, 2, 2])\ntorch.Size([128, 2, 2])\ntorch.Size([128, 2, 2])\ntorch.Size([128, 2, 2])\ntorch.Size([128, 2, 2])\ntorch.Size([128, 2, 2])\ntorch.Size([128, 2, 2])\ntorch.Size([128, 2, 2])\ntorch.Size([128, 2, 2])\ntorch.Size([128, 2, 2])\ntorch.Size([128, 2, 2])\ntorch.Size([128, 2, 2])\n 89%|████████▉ | 2222/2494 [00:07<00:00, 421.76it/s]torch.Size([128, 2, 2])\ntorch.Size([128, 2, 2])\ntorch.Size([128, 2, 2])\ntorch.Size([128, 2, 2])\ntorch.Size([128, 2, 2])\ntorch.Size([128, 2, 2])\ntorch.Size([128, 2, 2])\ntorch.Size([128, 2, 2])\ntorch.Size([128, 2, 2])\ntorch.Size([128, 2, 2])\ntorch.Size([128, 2, 2])\ntorch.Size([128, 2, 2])\ntorch.Size([128, 2, 2])\ntorch.Size([128, 2, 2])\ntorch.Size([128, 2, 2])\ntorch.Size([128, 2, 2])\ntorch.Size([128, 2, 2])\ntorch.Size([128, 2, 2])\ntorch.Size([128, 2, 2])\ntorch.Size([128, 2, 2])\ntorch.Size([128, 2, 2])\ntorch.Size([128, 2, 2])\ntorch.Size([128, 2, 2])\ntorch.Size([128, 2, 2])\ntorch.Size([128, 2, 2])\ntorch.Size([128, 2, 2])\ntorch.Size([128, 2, 2])\ntorch.Size([128, 2, 2])\ntorch.Size([128, 2, 2])\ntorch.Size([128, 2, 2])\ntorch.Size([128, 2, 2])\ntorch.Size([128, 2, 2])\ntorch.Size([128, 2, 2])\ntorch.Size([128, 2, 2])\ntorch.Size([128, 2, 2])\ntorch.Size([128, 2, 2])\ntorch.Size([128, 2, 2])\ntorch.Size([128, 2, 2])\ntorch.Size([128, 2, 2])\ntorch.Size([128, 2, 2])\ntorch.Size([128, 2, 2])\ntorch.Size([128, 2, 2])\ntorch.Size([128, 2, 2])\ntorch.Size([128, 2, 2])\ntorch.Size([128, 2, 2])\ntorch.Size([128, 2, 2])\ntorch.Size([128, 2, 2])\ntorch.Size([128, 2, 2])\ntorch.Size([128, 2, 2])\ntorch.Size([128, 2, 2])\ntorch.Size([128, 2, 2])\ntorch.Size([128, 2, 2])\ntorch.Size([128, 2, 2])\ntorch.Size([128, 2, 2])\ntorch.Size([128, 2, 2])\ntorch.Size([128, 2, 2])\ntorch.Size([128, 2, 2])\ntorch.Size([128, 2, 2])\ntorch.Size([128, 2, 2])\ntorch.Size([128, 2, 2])\ntorch.Size([128, 2, 2])\ntorch.Size([128, 2, 2])\ntorch.Size([128, 2, 2])\ntorch.Size([128, 2, 2])\ntorch.Size([128, 2, 2])\ntorch.Size([128, 2, 2])\ntorch.Size([128, 2, 2])\ntorch.Size([128, 2, 2])\ntorch.Size([128, 2, 2])\ntorch.Size([128, 2, 2])\ntorch.Size([128, 2, 2])\ntorch.Size([128, 2, 2])\ntorch.Size([128, 2, 2])\ntorch.Size([128, 2, 2])\ntorch.Size([128, 2, 2])\ntorch.Size([128, 2, 2])\ntorch.Size([128, 2, 2])\ntorch.Size([128, 2, 2])\ntorch.Size([128, 2, 2])\ntorch.Size([128, 2, 2])\ntorch.Size([128, 2, 2])\ntorch.Size([128, 2, 2])\ntorch.Size([128, 2, 2])\ntorch.Size([128, 2, 2])\ntorch.Size([128, 2, 2])\n 93%|█████████▎| 2312/2494 [00:07<00:00, 430.40it/s]torch.Size([128, 2, 2])\ntorch.Size([128, 2, 2])\ntorch.Size([128, 2, 2])\ntorch.Size([128, 2, 2])\ntorch.Size([128, 2, 2])\ntorch.Size([128, 2, 2])\ntorch.Size([128, 2, 2])\ntorch.Size([128, 2, 2])\ntorch.Size([128, 2, 2])\ntorch.Size([128, 2, 2])\ntorch.Size([128, 2, 2])\ntorch.Size([128, 2, 2])\ntorch.Size([128, 2, 2])\ntorch.Size([128, 2, 2])\ntorch.Size([128, 2, 2])\ntorch.Size([128, 2, 2])\ntorch.Size([128, 2, 2])\ntorch.Size([128, 2, 2])\ntorch.Size([128, 2, 2])\ntorch.Size([128, 2, 2])\ntorch.Size([128, 2, 2])\ntorch.Size([128, 2, 2])\ntorch.Size([128, 2, 2])\ntorch.Size([128, 2, 2])\ntorch.Size([128, 2, 2])\ntorch.Size([128, 2, 2])\ntorch.Size([128, 2, 2])\ntorch.Size([128, 2, 2])\ntorch.Size([128, 2, 2])\ntorch.Size([128, 2, 2])\ntorch.Size([128, 2, 2])\ntorch.Size([128, 2, 2])\ntorch.Size([128, 2, 2])\ntorch.Size([128, 2, 2])\ntorch.Size([128, 2, 2])\ntorch.Size([128, 2, 2])\ntorch.Size([128, 2, 2])\ntorch.Size([128, 2, 2])\ntorch.Size([128, 2, 2])\ntorch.Size([128, 2, 2])\ntorch.Size([128, 2, 2])\ntorch.Size([128, 2, 2])\ntorch.Size([128, 2, 2])\ntorch.Size([128, 2, 2])\ntorch.Size([128, 2, 2])\ntorch.Size([128, 2, 2])\ntorch.Size([128, 2, 2])\ntorch.Size([128, 2, 2])\ntorch.Size([128, 2, 2])\ntorch.Size([128, 2, 2])\ntorch.Size([128, 2, 2])\ntorch.Size([128, 2, 2])\ntorch.Size([128, 2, 2])\ntorch.Size([128, 2, 2])\ntorch.Size([128, 2, 2])\ntorch.Size([128, 2, 2])\ntorch.Size([128, 2, 2])\ntorch.Size([128, 2, 2])\ntorch.Size([128, 2, 2])\ntorch.Size([128, 2, 2])\ntorch.Size([128, 2, 2])\ntorch.Size([128, 2, 2])\ntorch.Size([128, 2, 2])\ntorch.Size([128, 2, 2])\ntorch.Size([128, 2, 2])\ntorch.Size([128, 2, 2])\ntorch.Size([128, 2, 2])\ntorch.Size([128, 2, 2])\ntorch.Size([128, 2, 2])\ntorch.Size([128, 2, 2])\ntorch.Size([128, 2, 2])\ntorch.Size([128, 2, 2])\ntorch.Size([128, 2, 2])\ntorch.Size([128, 2, 2])\ntorch.Size([128, 2, 2])\ntorch.Size([128, 2, 2])\ntorch.Size([128, 2, 2])\ntorch.Size([128, 2, 2])\ntorch.Size([128, 2, 2])\ntorch.Size([128, 2, 2])\ntorch.Size([128, 2, 2])\ntorch.Size([128, 2, 2])\ntorch.Size([128, 2, 2])\ntorch.Size([128, 2, 2])\ntorch.Size([128, 2, 2])\ntorch.Size([128, 2, 2])\ntorch.Size([128, 2, 2])\n 96%|█████████▌| 2399/2494 [00:07<00:00, 419.31it/s]torch.Size([128, 2, 2])\ntorch.Size([128, 2, 2])\ntorch.Size([128, 2, 2])\ntorch.Size([128, 2, 2])\ntorch.Size([128, 2, 2])\ntorch.Size([128, 2, 2])\ntorch.Size([128, 2, 2])\ntorch.Size([128, 2, 2])\ntorch.Size([128, 2, 2])\ntorch.Size([128, 2, 2])\ntorch.Size([128, 2, 2])\ntorch.Size([128, 2, 2])\ntorch.Size([128, 2, 2])\ntorch.Size([128, 2, 2])\ntorch.Size([128, 2, 2])\ntorch.Size([128, 2, 2])\ntorch.Size([128, 2, 2])\ntorch.Size([128, 2, 2])\ntorch.Size([128, 2, 2])\ntorch.Size([128, 2, 2])\ntorch.Size([128, 2, 2])\ntorch.Size([128, 2, 2])\ntorch.Size([128, 2, 2])\ntorch.Size([128, 2, 2])\ntorch.Size([128, 2, 2])\ntorch.Size([128, 2, 2])\ntorch.Size([128, 2, 2])\ntorch.Size([128, 2, 2])\ntorch.Size([128, 2, 2])\ntorch.Size([128, 2, 2])\ntorch.Size([128, 2, 2])\ntorch.Size([128, 2, 2])\ntorch.Size([128, 2, 2])\ntorch.Size([128, 2, 2])\ntorch.Size([128, 2, 2])\ntorch.Size([128, 2, 2])\ntorch.Size([128, 2, 2])\ntorch.Size([128, 2, 2])\ntorch.Size([128, 2, 2])\ntorch.Size([128, 2, 2])\ntorch.Size([128, 2, 2])\ntorch.Size([128, 2, 2])\ntorch.Size([128, 2, 2])\ntorch.Size([128, 2, 2])\ntorch.Size([128, 2, 2])\ntorch.Size([128, 2, 2])\ntorch.Size([128, 2, 2])\ntorch.Size([128, 2, 2])\ntorch.Size([128, 2, 2])\ntorch.Size([128, 2, 2])\ntorch.Size([128, 2, 2])\ntorch.Size([128, 2, 2])\ntorch.Size([128, 2, 2])\ntorch.Size([128, 2, 2])\ntorch.Size([128, 2, 2])\ntorch.Size([128, 2, 2])\ntorch.Size([128, 2, 2])\ntorch.Size([128, 2, 2])\ntorch.Size([128, 2, 2])\ntorch.Size([128, 2, 2])\ntorch.Size([128, 2, 2])\ntorch.Size([128, 2, 2])\ntorch.Size([128, 2, 2])\ntorch.Size([128, 2, 2])\ntorch.Size([128, 2, 2])\ntorch.Size([128, 2, 2])\ntorch.Size([128, 2, 2])\ntorch.Size([128, 2, 2])\ntorch.Size([128, 2, 2])\ntorch.Size([128, 2, 2])\ntorch.Size([128, 2, 2])\ntorch.Size([128, 2, 2])\ntorch.Size([128, 2, 2])\ntorch.Size([128, 2, 2])\ntorch.Size([128, 2, 2])\ntorch.Size([128, 2, 2])\ntorch.Size([128, 2, 2])\ntorch.Size([128, 2, 2])\ntorch.Size([128, 2, 2])\ntorch.Size([128, 2, 2])\ntorch.Size([128, 2, 2])\ntorch.Size([128, 2, 2])\ntorch.Size([128, 2, 2])\n100%|█████████▉| 2487/2494 [00:07<00:00, 428.92it/s]torch.Size([128, 2, 2])\ntorch.Size([128, 2, 2])\ntorch.Size([128, 2, 2])\ntorch.Size([128, 2, 2])\ntorch.Size([128, 2, 2])\ntorch.Size([128, 2, 2])\ntorch.Size([128, 2, 2])\ntorch.Size([128, 2, 2])\ntorch.Size([128, 2, 2])\ntorch.Size([128, 2, 2])\ntorch.Size([128, 2, 2])\ntorch.Size([128, 2, 2])\ntorch.Size([128, 2, 2])\ntorch.Size([128, 2, 2])\ntorch.Size([128, 2, 2])\ntorch.Size([128, 2, 2])\ntorch.Size([128, 2, 2])\ntorch.Size([128, 2, 2])\ntorch.Size([128, 2, 2])\ntorch.Size([128, 2, 2])\ntorch.Size([128, 2, 2])\ntorch.Size([128, 2, 2])\ntorch.Size([128, 2, 2])\ntorch.Size([128, 2, 2])\ntorch.Size([128, 2, 2])\ntorch.Size([128, 2, 2])\ntorch.Size([128, 2, 2])\ntorch.Size([128, 2, 2])\ntorch.Size([128, 2, 2])\ntorch.Size([128, 2, 2])\ntorch.Size([128, 2, 2])\ntorch.Size([128, 2, 2])\ntorch.Size([128, 2, 2])\ntorch.Size([128, 2, 2])\ntorch.Size([128, 2, 2])\ntorch.Size([128, 2, 2])\ntorch.Size([128, 2, 2])\ntorch.Size([128, 2, 2])\ntorch.Size([128, 2, 2])\ntorch.Size([128, 2, 2])\ntorch.Size([128, 2, 2])\ntorch.Size([128, 2, 2])\ntorch.Size([128, 2, 2])\ntorch.Size([128, 2, 2])\ntorch.Size([128, 2, 2])\ntorch.Size([128, 2, 2])\ntorch.Size([128, 2, 2])\ntorch.Size([128, 2, 2])\ntorch.Size([128, 2, 2])\ntorch.Size([128, 2, 2])\ntorch.Size([128, 2, 2])\ntorch.Size([128, 2, 2])\ntorch.Size([128, 2, 2])\ntorch.Size([128, 2, 2])\ntorch.Size([128, 2, 2])\ntorch.Size([128, 2, 2])\ntorch.Size([128, 2, 2])\ntorch.Size([128, 2, 2])\ntorch.Size([128, 2, 2])\ntorch.Size([128, 2, 2])\ntorch.Size([128, 2, 2])\ntorch.Size([128, 2, 2])\ntorch.Size([128, 2, 2])\ntorch.Size([128, 2, 2])\ntorch.Size([128, 2, 2])\ntorch.Size([128, 2, 2])\ntorch.Size([128, 2, 2])\ntorch.Size([128, 2, 2])\ntorch.Size([128, 2, 2])\ntorch.Size([128, 2, 2])\ntorch.Size([128, 2, 2])\ntorch.Size([128, 2, 2])\ntorch.Size([128, 2, 2])\ntorch.Size([128, 2, 2])\ntorch.Size([128, 2, 2])\ntorch.Size([128, 2, 2])\ntorch.Size([128, 2, 2])\ntorch.Size([128, 2, 2])\ntorch.Size([128, 2, 2])\ntorch.Size([128, 2, 2])\ntorch.Size([128, 2, 2])\ntorch.Size([128, 2, 2])\ntorch.Size([128, 2, 2])\ntorch.Size([128, 2, 2])\ntorch.Size([128, 2, 2])\ntorch.Size([128, 2, 2])\ntorch.Size([128, 2, 2])\ntorch.Size([128, 2, 2])\ntorch.Size([128, 2, 2])\n100%|██████████| 2494/2494 [00:07<00:00, 318.40it/s]torch.Size([128, 2, 2])\ntorch.Size([128, 2, 2])\ntorch.Size([128, 2, 2])\ntorch.Size([128, 2, 2])\nAccuracy:  0.664\n\n"
    }
   ],
   "source": [
    "test(net)"
   ]
  },
  {
   "cell_type": "code",
   "execution_count": null,
   "metadata": {},
   "outputs": [],
   "source": []
  }
 ]
}